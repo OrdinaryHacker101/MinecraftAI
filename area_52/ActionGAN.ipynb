{
 "cells": [
  {
   "cell_type": "code",
   "execution_count": 74,
   "metadata": {},
   "outputs": [],
   "source": [
    "import matplotlib.pyplot as plt\n",
    "import numpy as np\n",
    "import tensorflow as tf\n",
    "from tensorflow import keras\n",
    "from PIL import Image\n",
    "import tqdm\n",
    "import os"
   ]
  },
  {
   "cell_type": "code",
   "execution_count": 105,
   "metadata": {},
   "outputs": [
    {
     "name": "stdout",
     "output_type": "stream",
     "text": [
      "(64, 64, 3)\n",
      "0\n",
      "(64, 64, 3)\n",
      "1\n",
      "(64, 64, 3)\n",
      "2\n",
      "(64, 64, 3)\n",
      "3\n",
      "(64, 64, 3)\n",
      "4\n",
      "(64, 64, 3)\n",
      "5\n",
      "(64, 64, 3)\n",
      "6\n",
      "(64, 64, 3)\n",
      "7\n",
      "(64, 64, 3)\n",
      "8\n",
      "(64, 64, 3)\n",
      "9\n"
     ]
    },
    {
     "data": {
      "image/png": "[encoded data removed]",
      "text/plain": [
       "<Figure size 432x288 with 1 Axes>"
      ]
     },
     "metadata": {
      "needs_background": "light"
     },
     "output_type": "display_data"
    }
   ],
   "source": [
    "path = os.path.join(\"C:\\\\Users\\\\Robin\\\\Desktop\\\\deep_learning\")\n",
    "#video number 1\n",
    "x_img = np.load(path+\"\\\\MineRLNavigateDense-v0\\\\v3_absolute_grape_changeling-12_2293-4124\\\\NDTRAIN.npy\", allow_pickle=True)[0]\n",
    "#first 100 frames of the video\n",
    "x_img = np.array(x_img).reshape(1832, 64, 64, 3).astype(np.uint8)\n",
    "x_img = x_img[-1792:][:11]\n",
    "imgs = []\n",
    "for i in range(10):\n",
    "    difference = np.array(x_img[i+1]-x_img[i])\n",
    "    print(difference.shape)\n",
    "    #difference = Image.fromarray(difference, \"RGB\")\n",
    "    imgs.append(difference)\n",
    "    print(i)\n",
    "imgs = np.array(imgs).reshape(10,64,64,3)\n",
    "plt.imshow(imgs[-1])\n",
    "plt.show()"
   ]
  },
  {
   "cell_type": "code",
   "execution_count": 106,
   "metadata": {},
   "outputs": [
    {
     "name": "stdout",
     "output_type": "stream",
     "text": [
      "(10,)\n"
     ]
    }
   ],
   "source": [
    "y_label = np.load(path+\"\\\\MineRLNavigateDense-v0\\\\v3_absolute_grape_changeling-12_2293-4124\\\\NDTRAIN.npy\", allow_pickle=True)[1]\n",
    "y_label = y_label[3:][0][:10]\n",
    "print(np.array(y_label).shape)\n"
   ]
  },
  {
   "cell_type": "code",
   "execution_count": 107,
   "metadata": {},
   "outputs": [
    {
     "name": "stdout",
     "output_type": "stream",
     "text": [
      "Epoch 1/50\n",
      "1/1 [==============================] - 1s 614ms/step - loss: 1.1921e-07 - val_loss: 1.1921e-07\n",
      "Epoch 2/50\n",
      "1/1 [==============================] - 0s 219ms/step - loss: 1.1921e-07 - val_loss: 1.1921e-07\n",
      "Epoch 3/50\n",
      "1/1 [==============================] - 0s 175ms/step - loss: 1.1921e-07 - val_loss: 1.1921e-07\n",
      "Epoch 4/50\n",
      "1/1 [==============================] - 0s 160ms/step - loss: 1.1921e-07 - val_loss: 1.1921e-07\n",
      "Epoch 5/50\n",
      "1/1 [==============================] - 0s 156ms/step - loss: 1.1921e-07 - val_loss: 1.1921e-07\n",
      "Epoch 6/50\n",
      "1/1 [==============================] - 0s 141ms/step - loss: 1.1921e-07 - val_loss: 1.1921e-07\n",
      "Epoch 7/50\n",
      "1/1 [==============================] - 0s 148ms/step - loss: 1.1921e-07 - val_loss: 1.1921e-07\n",
      "Epoch 8/50\n",
      "1/1 [==============================] - 0s 131ms/step - loss: 1.1921e-07 - val_loss: 1.1921e-07\n",
      "Epoch 9/50\n",
      "1/1 [==============================] - 0s 128ms/step - loss: 1.1921e-07 - val_loss: 1.1921e-07\n",
      "Epoch 10/50\n",
      "1/1 [==============================] - 0s 113ms/step - loss: 1.1921e-07 - val_loss: 1.1921e-07\n",
      "Epoch 11/50\n",
      "1/1 [==============================] - 0s 111ms/step - loss: 1.1921e-07 - val_loss: 1.1921e-07\n",
      "Epoch 12/50\n",
      "1/1 [==============================] - 0s 109ms/step - loss: 1.1921e-07 - val_loss: 1.1921e-07\n",
      "Epoch 13/50\n",
      "1/1 [==============================] - 0s 95ms/step - loss: 1.1921e-07 - val_loss: 1.1921e-07\n",
      "Epoch 14/50\n",
      "1/1 [==============================] - 0s 92ms/step - loss: 1.1921e-07 - val_loss: 1.1921e-07\n",
      "Epoch 15/50\n",
      "1/1 [==============================] - 0s 109ms/step - loss: 1.1921e-07 - val_loss: 1.1921e-07\n",
      "Epoch 16/50\n",
      "1/1 [==============================] - 0s 106ms/step - loss: 1.1921e-07 - val_loss: 1.1921e-07\n",
      "Epoch 17/50\n",
      "1/1 [==============================] - 0s 104ms/step - loss: 1.1921e-07 - val_loss: 1.1921e-07\n",
      "Epoch 18/50\n",
      "1/1 [==============================] - 0s 97ms/step - loss: 1.1921e-07 - val_loss: 1.1921e-07\n",
      "Epoch 19/50\n",
      "1/1 [==============================] - 0s 103ms/step - loss: 1.1921e-07 - val_loss: 1.1921e-07\n",
      "Epoch 20/50\n",
      "1/1 [==============================] - 0s 107ms/step - loss: 1.1921e-07 - val_loss: 1.1921e-07\n",
      "Epoch 21/50\n",
      "1/1 [==============================] - 0s 92ms/step - loss: 1.1921e-07 - val_loss: 1.1921e-07\n",
      "Epoch 22/50\n",
      "1/1 [==============================] - 0s 91ms/step - loss: 1.1921e-07 - val_loss: 1.1921e-07\n",
      "Epoch 23/50\n",
      "1/1 [==============================] - 0s 98ms/step - loss: 1.1921e-07 - val_loss: 1.1921e-07\n",
      "Epoch 24/50\n",
      "1/1 [==============================] - 0s 92ms/step - loss: 1.1921e-07 - val_loss: 1.1921e-07\n",
      "Epoch 25/50\n",
      "1/1 [==============================] - 0s 105ms/step - loss: 1.1921e-07 - val_loss: 1.1921e-07\n",
      "Epoch 26/50\n",
      "1/1 [==============================] - 0s 94ms/step - loss: 1.1921e-07 - val_loss: 1.1921e-07\n",
      "Epoch 27/50\n",
      "1/1 [==============================] - 0s 90ms/step - loss: 1.1921e-07 - val_loss: 1.1921e-07\n",
      "Epoch 28/50\n",
      "1/1 [==============================] - 0s 96ms/step - loss: 1.1921e-07 - val_loss: 1.1921e-07\n",
      "Epoch 29/50\n",
      "1/1 [==============================] - 0s 92ms/step - loss: 1.1921e-07 - val_loss: 1.1921e-07\n",
      "Epoch 30/50\n",
      "1/1 [==============================] - 0s 95ms/step - loss: 1.1921e-07 - val_loss: 1.1921e-07\n",
      "Epoch 31/50\n",
      "1/1 [==============================] - 0s 96ms/step - loss: 1.1921e-07 - val_loss: 1.1921e-07\n",
      "Epoch 32/50\n",
      "1/1 [==============================] - 0s 98ms/step - loss: 1.1921e-07 - val_loss: 1.1921e-07\n",
      "Epoch 33/50\n",
      "1/1 [==============================] - 0s 90ms/step - loss: 1.1921e-07 - val_loss: 1.1921e-07\n",
      "Epoch 34/50\n",
      "1/1 [==============================] - 0s 93ms/step - loss: 1.1921e-07 - val_loss: 1.1921e-07\n",
      "Epoch 35/50\n",
      "1/1 [==============================] - 0s 110ms/step - loss: 1.1921e-07 - val_loss: 1.1921e-07\n",
      "Epoch 36/50\n",
      "1/1 [==============================] - 0s 89ms/step - loss: 1.1921e-07 - val_loss: 1.1921e-07\n",
      "Epoch 37/50\n",
      "1/1 [==============================] - 0s 105ms/step - loss: 1.1921e-07 - val_loss: 1.1921e-07\n",
      "Epoch 38/50\n",
      "1/1 [==============================] - 0s 94ms/step - loss: 1.1921e-07 - val_loss: 1.1921e-07\n",
      "Epoch 39/50\n",
      "1/1 [==============================] - 0s 96ms/step - loss: 1.1921e-07 - val_loss: 1.1921e-07\n",
      "Epoch 40/50\n",
      "1/1 [==============================] - 0s 94ms/step - loss: 1.1921e-07 - val_loss: 1.1921e-07\n",
      "Epoch 41/50\n",
      "1/1 [==============================] - 0s 98ms/step - loss: 1.1921e-07 - val_loss: 1.1921e-07\n",
      "Epoch 42/50\n",
      "1/1 [==============================] - 0s 98ms/step - loss: 1.1921e-07 - val_loss: 1.1921e-07\n",
      "Epoch 43/50\n",
      "1/1 [==============================] - 0s 116ms/step - loss: 1.1921e-07 - val_loss: 1.1921e-07\n",
      "Epoch 44/50\n",
      "1/1 [==============================] - 0s 97ms/step - loss: 1.1921e-07 - val_loss: 1.1921e-07\n",
      "Epoch 45/50\n",
      "1/1 [==============================] - 0s 103ms/step - loss: 1.1921e-07 - val_loss: 1.1921e-07\n",
      "Epoch 46/50\n",
      "1/1 [==============================] - 0s 88ms/step - loss: 1.1921e-07 - val_loss: 1.1921e-07\n",
      "Epoch 47/50\n",
      "1/1 [==============================] - 0s 94ms/step - loss: 1.1921e-07 - val_loss: 1.1921e-07\n",
      "Epoch 48/50\n",
      "1/1 [==============================] - 0s 97ms/step - loss: 1.1921e-07 - val_loss: 1.1921e-07\n",
      "Epoch 49/50\n",
      "1/1 [==============================] - 0s 91ms/step - loss: 1.1921e-07 - val_loss: 1.1921e-07\n",
      "Epoch 50/50\n",
      "1/1 [==============================] - 0s 93ms/step - loss: 1.1921e-07 - val_loss: 1.1921e-07\n"
     ]
    }
   ],
   "source": [
    "diff_img_correlator = keras.models.Sequential([\n",
    "    keras.layers.Conv2D(128, kernel_size=3, strides=2, padding=\"same\", activation=\"tanh\", input_shape=[64,64,3]),\n",
    "    keras.layers.MaxPooling2D(pool_size=2),\n",
    "    keras.layers.Conv2D(64, kernel_size=5, strides=1, padding=\"same\", activation=\"sigmoid\"),\n",
    "    keras.layers.Flatten(),\n",
    "    keras.layers.Dense(32),\n",
    "    keras.layers.Dense(1)\n",
    "])\n",
    "\n",
    "diff_img_correlator.compile(loss=tf.keras.losses.CategoricalCrossentropy(), optimizer=keras.optimizers.Adam())\n",
    "history = diff_img_correlator.fit(imgs, y_label, epochs=50, validation_data=(imgs, y_label))"
   ]
  },
  {
   "cell_type": "code",
   "execution_count": null,
   "metadata": {},
   "outputs": [],
   "source": []
  },
  {
   "cell_type": "code",
   "execution_count": null,
   "metadata": {},
   "outputs": [],
   "source": []
  }
 ],
 "metadata": {
  "kernelspec": {
   "display_name": "Python 3",
   "language": "python",
   "name": "python3"
  },
  "language_info": {
   "codemirror_mode": {
    "name": "ipython",
    "version": 3
   },
   "file_extension": ".py",
   "mimetype": "text/x-python",
   "name": "python",
   "nbconvert_exporter": "python",
   "pygments_lexer": "ipython3",
   "version": "3.8.3rc1"
  }
 },
 "nbformat": 4,
 "nbformat_minor": 4
}
