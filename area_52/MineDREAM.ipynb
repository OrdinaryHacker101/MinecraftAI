{
 "cells": [
  {
   "cell_type": "code",
   "execution_count": 2,
   "metadata": {},
   "outputs": [],
   "source": [
    "import numpy as np\n",
    "import matplotlib.pyplot as plt\n",
    "import os\n",
    "import tensorflow as tf\n",
    "from tensorflow import keras\n",
    "from PIL import Image"
   ]
  },
  {
   "cell_type": "code",
   "execution_count": 4,
   "metadata": {},
   "outputs": [
    {
     "name": "stdout",
     "output_type": "stream",
     "text": [
      "(1700, 64, 64, 3)\n",
      "(64, 64, 3)\n"
     ]
    },
    {
     "data": {
      "text/plain": [
       "<matplotlib.image.AxesImage at 0x1fce01588b0>"
      ]
     },
     "execution_count": 4,
     "metadata": {},
     "output_type": "execute_result"
    },
    {
     "data": {
      "image/png": "[encoded data removed]",
      "text/plain": [
       "<Figure size 432x288 with 1 Axes>"
      ]
     },
     "metadata": {
      "needs_background": "light"
     },
     "output_type": "display_data"
    }
   ],
   "source": [
    "path = os.path.join(\"C:\\\\Users\\\\Robin\\\\Desktop\\\\deep_learning\")\n",
    "file = np.load(path+\"\\\\processed_data\\\\v3_absolute_grape_changeling-12_2293-4124NDTRAIN.npy\", allow_pickle=True)[1]\n",
    "hard_test = np.array(file[-1792:][150]).astype(np.float32)/255.\n",
    "file = np.array(file[-1792:][:1700]).astype(np.uint8)\n",
    "print(file.shape)\n",
    "#for i in range(len(file)):\n",
    "    #processed = np.append(np.array(Image.fromarray(file[i], \"RGB\").convert(\"L\")), processed)\n",
    "processed = file.reshape(1700, 64, 64, 3)\n",
    "test = processed[-1]\n",
    "test = test.reshape(-1,64,64,3)\n",
    "processed = processed[:-1]\n",
    "test = test.reshape(-1,64,64,3).astype(np.float32)/255.\n",
    "processed = processed.astype(np.float32)/255.\n",
    "print(processed[0].shape)\n",
    "plt.imshow(processed[-1])"
   ]
  },
  {
   "cell_type": "code",
   "execution_count": 64,
   "metadata": {},
   "outputs": [
    {
     "name": "stdout",
     "output_type": "stream",
     "text": [
      "Epoch 1/10\n",
      "54/54 [==============================] - 34s 639ms/step - loss: 0.5714 - val_loss: 0.5419\n",
      "Epoch 2/10\n",
      "54/54 [==============================] - 40s 743ms/step - loss: 0.5547 - val_loss: 0.5431\n",
      "Epoch 3/10\n",
      "54/54 [==============================] - 39s 719ms/step - loss: 0.5308 - val_loss: 0.5328\n",
      "Epoch 4/10\n",
      "54/54 [==============================] - 40s 740ms/step - loss: 0.5204 - val_loss: 0.5248\n",
      "Epoch 5/10\n",
      "54/54 [==============================] - 42s 781ms/step - loss: 0.5144 - val_loss: 0.5233\n",
      "Epoch 6/10\n",
      "54/54 [==============================] - 38s 701ms/step - loss: 0.5108 - val_loss: 0.5160\n",
      "Epoch 7/10\n",
      "54/54 [==============================] - 41s 755ms/step - loss: 0.5143 - val_loss: 0.5043\n",
      "Epoch 8/10\n",
      "54/54 [==============================] - 38s 695ms/step - loss: 0.5077 - val_loss: 0.5001\n",
      "Epoch 9/10\n",
      "54/54 [==============================] - 31s 572ms/step - loss: 0.5062 - val_loss: 0.5058\n",
      "Epoch 10/10\n",
      "54/54 [==============================] - 33s 607ms/step - loss: 0.5050 - val_loss: 0.4987\n",
      "Model: \"sequential_48\"\n",
      "_________________________________________________________________\n",
      "Layer (type)                 Output Shape              Param #   \n",
      "=================================================================\n",
      "sequential_46 (Sequential)   multiple                  3332562   \n",
      "_________________________________________________________________\n",
      "sequential_47 (Sequential)   multiple                  626916    \n",
      "=================================================================\n",
      "Total params: 3,959,478\n",
      "Trainable params: 3,959,350\n",
      "Non-trainable params: 128\n",
      "_________________________________________________________________\n"
     ]
    }
   ],
   "source": [
    "#All credits goes to https://github.com/kimbring2/DQFD_Minecraft/blob/master/MineRL_Navigate_DQN.ipynb\n",
    "#and to VCode1243; without them both this would never have been possible\n",
    "mem_in = keras.models.Sequential([\n",
    "    keras.layers.Conv2D(32, kernel_size=[8,8], strides=[2,2], padding=\"same\",\n",
    "                       activation = \"tanh\"),\n",
    "    keras.layers.Conv2D(64, kernel_size=[4,4], strides=[1,1], padding=\"same\",\n",
    "                       activation = \"relu\"),\n",
    "    keras.layers.BatchNormalization(),\n",
    "    keras.layers.Conv2D(64, kernel_size=[2,2], strides=[1,1], padding=\"same\",\n",
    "                       activation = \"relu\"),\n",
    "    keras.layers.Flatten(),\n",
    "    #50 p values\n",
    "    keras.layers.Dense(50)\n",
    "])\n",
    "\n",
    "mem_out = keras.models.Sequential([\n",
    "    keras.layers.Dense(64*64*3),\n",
    "    keras.layers.Reshape([64,64,3]),\n",
    "    keras.layers.Conv2DTranspose(3, kernel_size=[5,5], strides=[1,1], padding=\"same\", activation=\"sigmoid\"),\n",
    "])\n",
    "\n",
    "mem_autoencode = keras.models.Sequential([mem_in, mem_out])\n",
    "mem_autoencode.compile(loss=\"binary_crossentropy\", optimizer=keras.optimizers.SGD(lr=1.5))\n",
    "history = mem_autoencode.fit(processed, processed, epochs=10, validation_data=(test, test), shuffle=True)\n",
    "mem_autoencode.summary()"
   ]
  },
  {
   "cell_type": "code",
   "execution_count": 71,
   "metadata": {},
   "outputs": [
    {
     "name": "stdout",
     "output_type": "stream",
     "text": [
      "Original image:\n"
     ]
    },
    {
     "data": {
      "image/png": "[encoded data removed]",
      "text/plain": [
       "<Figure size 432x288 with 1 Axes>"
      ]
     },
     "metadata": {
      "needs_background": "light"
     },
     "output_type": "display_data"
    },
    {
     "data": {
      "image/png": "[encoded data removed]",
      "text/plain": [
       "<Figure size 432x288 with 1 Axes>"
      ]
     },
     "metadata": {
      "needs_background": "light"
     },
     "output_type": "display_data"
    },
    {
     "name": "stdout",
     "output_type": "stream",
     "text": [
      "AI vision:\n"
     ]
    },
    {
     "data": {
      "image/png": "[encoded data removed]",
      "text/plain": [
       "<Figure size 432x288 with 1 Axes>"
      ]
     },
     "metadata": {
      "needs_background": "light"
     },
     "output_type": "display_data"
    },
    {
     "data": {
      "image/png": "[encoded data removed]",
      "text/plain": [
       "<Figure size 432x288 with 1 Axes>"
      ]
     },
     "metadata": {
      "needs_background": "light"
     },
     "output_type": "display_data"
    }
   ],
   "source": [
    "image = np.array(mem_autoencode.predict(processed[100].reshape(-1,64,64,3))).astype(np.float32)\n",
    "second_img = np.array(mem_autoencode.predict(processed[0].reshape(-1,64,64,3))).astype(np.float32)\n",
    "#Original image\n",
    "print(\"Original image:\")\n",
    "plt.imshow(processed[0].reshape(64,64,3))\n",
    "plt.show()\n",
    "plt.imshow(processed[100].reshape(64,64,3))\n",
    "plt.show()\n",
    "#AI autoencoder vision\n",
    "print(\"AI vision:\")\n",
    "plt.imshow(second_img.reshape(64,64,3))\n",
    "plt.show()\n",
    "plt.imshow(image.reshape(64,64,3))\n",
    "plt.show()"
   ]
  },
  {
   "cell_type": "code",
   "execution_count": 477,
   "metadata": {
    "scrolled": true
   },
   "outputs": [
    {
     "name": "stdout",
     "output_type": "stream",
     "text": [
      "Epoch 1/100\n",
      "4/4 [==============================] - 3s 715ms/step - loss: 0.6663 - val_loss: 0.5969\n",
      "Epoch 2/100\n",
      "4/4 [==============================] - 2s 398ms/step - loss: 0.6060 - val_loss: 0.5591\n",
      "Epoch 3/100\n",
      "4/4 [==============================] - 2s 466ms/step - loss: 0.5846 - val_loss: 0.5406\n",
      "Epoch 4/100\n",
      "4/4 [==============================] - 2s 397ms/step - loss: 0.5755 - val_loss: 0.5303\n",
      "Epoch 5/100\n",
      "4/4 [==============================] - 2s 387ms/step - loss: 0.5714 - val_loss: 0.5252\n",
      "Epoch 6/100\n",
      "4/4 [==============================] - 2s 379ms/step - loss: 0.5699 - val_loss: 0.5235\n",
      "Epoch 7/100\n",
      "4/4 [==============================] - 2s 389ms/step - loss: 0.5694 - val_loss: 0.5220\n",
      "Epoch 8/100\n",
      "4/4 [==============================] - 2s 398ms/step - loss: 0.5692 - val_loss: 0.5209\n",
      "Epoch 9/100\n",
      "4/4 [==============================] - 2s 395ms/step - loss: 0.5690 - val_loss: 0.5207\n",
      "Epoch 10/100\n",
      "4/4 [==============================] - 2s 380ms/step - loss: 0.5690 - val_loss: 0.5203\n",
      "Epoch 11/100\n",
      "4/4 [==============================] - 2s 399ms/step - loss: 0.5690 - val_loss: 0.5206\n",
      "Epoch 12/100\n",
      "4/4 [==============================] - 2s 384ms/step - loss: 0.5690 - val_loss: 0.5205\n",
      "Epoch 13/100\n",
      "4/4 [==============================] - 2s 387ms/step - loss: 0.5690 - val_loss: 0.5194\n",
      "Epoch 14/100\n",
      "4/4 [==============================] - 2s 384ms/step - loss: 0.5689 - val_loss: 0.5193\n",
      "Epoch 15/100\n",
      "4/4 [==============================] - 2s 400ms/step - loss: 0.5689 - val_loss: 0.5186\n",
      "Epoch 16/100\n",
      "4/4 [==============================] - 2s 395ms/step - loss: 0.5689 - val_loss: 0.5191\n",
      "Epoch 17/100\n",
      "4/4 [==============================] - 2s 421ms/step - loss: 0.5689 - val_loss: 0.5184\n",
      "Epoch 18/100\n",
      "4/4 [==============================] - 2s 416ms/step - loss: 0.5689 - val_loss: 0.5187\n",
      "Epoch 19/100\n",
      "4/4 [==============================] - 2s 412ms/step - loss: 0.5689 - val_loss: 0.5194\n",
      "Epoch 20/100\n",
      "4/4 [==============================] - 1s 373ms/step - loss: 0.5689 - val_loss: 0.5189\n",
      "Epoch 21/100\n",
      "4/4 [==============================] - 2s 379ms/step - loss: 0.5688 - val_loss: 0.5189\n",
      "Epoch 22/100\n",
      "4/4 [==============================] - 2s 393ms/step - loss: 0.5688 - val_loss: 0.5191\n",
      "Epoch 23/100\n",
      "4/4 [==============================] - 2s 435ms/step - loss: 0.5688 - val_loss: 0.5191\n",
      "Epoch 24/100\n",
      "4/4 [==============================] - 2s 396ms/step - loss: 0.5688 - val_loss: 0.5194\n",
      "Epoch 25/100\n",
      "4/4 [==============================] - 2s 383ms/step - loss: 0.5688 - val_loss: 0.5198\n",
      "Epoch 26/100\n",
      "4/4 [==============================] - 2s 384ms/step - loss: 0.5688 - val_loss: 0.5195\n",
      "Epoch 27/100\n",
      "4/4 [==============================] - 2s 383ms/step - loss: 0.5688 - val_loss: 0.5199\n",
      "Epoch 28/100\n",
      "4/4 [==============================] - 2s 383ms/step - loss: 0.5688 - val_loss: 0.5194\n",
      "Epoch 29/100\n",
      "4/4 [==============================] - 2s 387ms/step - loss: 0.5687 - val_loss: 0.5192\n",
      "Epoch 30/100\n",
      "4/4 [==============================] - 2s 400ms/step - loss: 0.5687 - val_loss: 0.5190\n",
      "Epoch 31/100\n",
      "4/4 [==============================] - 2s 390ms/step - loss: 0.5687 - val_loss: 0.5196\n",
      "Epoch 32/100\n",
      "4/4 [==============================] - 2s 432ms/step - loss: 0.5686 - val_loss: 0.5194\n",
      "Epoch 33/100\n",
      "4/4 [==============================] - 2s 434ms/step - loss: 0.5686 - val_loss: 0.5185\n",
      "Epoch 34/100\n",
      "4/4 [==============================] - 2s 492ms/step - loss: 0.5685 - val_loss: 0.5188\n",
      "Epoch 35/100\n",
      "4/4 [==============================] - 2s 436ms/step - loss: 0.5684 - val_loss: 0.5195\n",
      "Epoch 36/100\n",
      "4/4 [==============================] - 2s 521ms/step - loss: 0.5682 - val_loss: 0.5200\n",
      "Epoch 37/100\n",
      "4/4 [==============================] - 2s 416ms/step - loss: 0.5680 - val_loss: 0.5191\n",
      "Epoch 38/100\n",
      "4/4 [==============================] - 2s 400ms/step - loss: 0.5677 - val_loss: 0.5192\n",
      "Epoch 39/100\n",
      "4/4 [==============================] - 2s 437ms/step - loss: 0.5673 - val_loss: 0.5197\n",
      "Epoch 40/100\n",
      "4/4 [==============================] - 2s 446ms/step - loss: 0.5667 - val_loss: 0.5196\n",
      "Epoch 41/100\n",
      "4/4 [==============================] - 2s 504ms/step - loss: 0.5660 - val_loss: 0.5198\n",
      "Epoch 42/100\n",
      "4/4 [==============================] - 2s 435ms/step - loss: 0.5650 - val_loss: 0.5199\n",
      "Epoch 43/100\n",
      "4/4 [==============================] - 2s 388ms/step - loss: 0.5637 - val_loss: 0.5196\n",
      "Epoch 44/100\n",
      "4/4 [==============================] - 2s 429ms/step - loss: 0.5626 - val_loss: 0.5210\n",
      "Epoch 45/100\n",
      "4/4 [==============================] - 2s 433ms/step - loss: 0.5608 - val_loss: 0.5218\n",
      "Epoch 46/100\n",
      "4/4 [==============================] - 2s 431ms/step - loss: 0.5592 - val_loss: 0.5212\n",
      "Epoch 47/100\n",
      "4/4 [==============================] - 2s 440ms/step - loss: 0.5583 - val_loss: 0.5226\n",
      "Epoch 48/100\n",
      "4/4 [==============================] - 2s 468ms/step - loss: 0.5568 - val_loss: 0.5231\n",
      "Epoch 49/100\n",
      "4/4 [==============================] - 2s 448ms/step - loss: 0.5558 - val_loss: 0.5261\n",
      "Epoch 50/100\n",
      "4/4 [==============================] - 2s 476ms/step - loss: 0.5547 - val_loss: 0.5294\n",
      "Epoch 51/100\n",
      "4/4 [==============================] - 2s 454ms/step - loss: 0.5540 - val_loss: 0.5268\n",
      "Epoch 52/100\n",
      "4/4 [==============================] - 2s 437ms/step - loss: 0.5536 - val_loss: 0.5265\n",
      "Epoch 53/100\n",
      "4/4 [==============================] - 2s 508ms/step - loss: 0.5531 - val_loss: 0.5253\n",
      "Epoch 54/100\n",
      "4/4 [==============================] - 2s 433ms/step - loss: 0.5525 - val_loss: 0.5261\n",
      "Epoch 55/100\n",
      "4/4 [==============================] - 2s 439ms/step - loss: 0.5516 - val_loss: 0.5189\n",
      "Epoch 56/100\n",
      "4/4 [==============================] - 2s 444ms/step - loss: 0.5516 - val_loss: 0.5235\n",
      "Epoch 57/100\n",
      "4/4 [==============================] - 2s 449ms/step - loss: 0.5497 - val_loss: 0.5209\n",
      "Epoch 58/100\n",
      "4/4 [==============================] - 2s 441ms/step - loss: 0.5483 - val_loss: 0.5242\n",
      "Epoch 59/100\n",
      "4/4 [==============================] - 2s 526ms/step - loss: 0.5471 - val_loss: 0.5196\n",
      "Epoch 60/100\n",
      "4/4 [==============================] - 2s 552ms/step - loss: 0.5459 - val_loss: 0.5210\n",
      "Epoch 61/100\n",
      "4/4 [==============================] - 2s 521ms/step - loss: 0.5449 - val_loss: 0.5161\n",
      "Epoch 62/100\n",
      "4/4 [==============================] - 2s 495ms/step - loss: 0.5441 - val_loss: 0.5150\n",
      "Epoch 63/100\n",
      "4/4 [==============================] - 2s 431ms/step - loss: 0.5437 - val_loss: 0.5177\n",
      "Epoch 64/100\n",
      "4/4 [==============================] - 2s 434ms/step - loss: 0.5425 - val_loss: 0.5154\n",
      "Epoch 65/100\n",
      "4/4 [==============================] - 2s 512ms/step - loss: 0.5420 - val_loss: 0.5146\n",
      "Epoch 66/100\n",
      "4/4 [==============================] - 2s 463ms/step - loss: 0.5416 - val_loss: 0.5151\n",
      "Epoch 67/100\n",
      "4/4 [==============================] - 2s 456ms/step - loss: 0.5411 - val_loss: 0.5153\n",
      "Epoch 68/100\n",
      "4/4 [==============================] - 2s 437ms/step - loss: 0.5407 - val_loss: 0.5155\n",
      "Epoch 69/100\n",
      "4/4 [==============================] - 2s 442ms/step - loss: 0.5404 - val_loss: 0.5155\n",
      "Epoch 70/100\n",
      "4/4 [==============================] - 2s 475ms/step - loss: 0.5401 - val_loss: 0.5150\n",
      "Epoch 71/100\n",
      "4/4 [==============================] - 2s 446ms/step - loss: 0.5399 - val_loss: 0.5149\n",
      "Epoch 72/100\n",
      "4/4 [==============================] - 2s 432ms/step - loss: 0.5397 - val_loss: 0.5146\n",
      "Epoch 73/100\n",
      "4/4 [==============================] - 2s 430ms/step - loss: 0.5395 - val_loss: 0.5146\n",
      "Epoch 74/100\n",
      "4/4 [==============================] - 2s 440ms/step - loss: 0.5393 - val_loss: 0.5147\n",
      "Epoch 75/100\n",
      "4/4 [==============================] - 2s 444ms/step - loss: 0.5391 - val_loss: 0.5146\n",
      "Epoch 76/100\n",
      "4/4 [==============================] - 2s 432ms/step - loss: 0.5389 - val_loss: 0.5150\n",
      "Epoch 77/100\n",
      "4/4 [==============================] - 2s 429ms/step - loss: 0.5387 - val_loss: 0.5149\n",
      "Epoch 78/100\n",
      "4/4 [==============================] - 2s 438ms/step - loss: 0.5385 - val_loss: 0.5146\n",
      "Epoch 79/100\n",
      "4/4 [==============================] - 2s 438ms/step - loss: 0.5384 - val_loss: 0.5146\n",
      "Epoch 80/100\n",
      "4/4 [==============================] - 2s 506ms/step - loss: 0.5383 - val_loss: 0.5142\n",
      "Epoch 81/100\n",
      "4/4 [==============================] - 2s 467ms/step - loss: 0.5381 - val_loss: 0.5144\n",
      "Epoch 82/100\n",
      "4/4 [==============================] - 2s 439ms/step - loss: 0.5379 - val_loss: 0.5149\n",
      "Epoch 83/100\n"
     ]
    },
    {
     "name": "stdout",
     "output_type": "stream",
     "text": [
      "4/4 [==============================] - 2s 432ms/step - loss: 0.5376 - val_loss: 0.5145\n",
      "Epoch 84/100\n",
      "4/4 [==============================] - 2s 441ms/step - loss: 0.5375 - val_loss: 0.5144\n",
      "Epoch 85/100\n",
      "4/4 [==============================] - 2s 435ms/step - loss: 0.5373 - val_loss: 0.5143\n",
      "Epoch 86/100\n",
      "4/4 [==============================] - 2s 431ms/step - loss: 0.5372 - val_loss: 0.5147\n",
      "Epoch 87/100\n",
      "4/4 [==============================] - 2s 434ms/step - loss: 0.5370 - val_loss: 0.5144\n",
      "Epoch 88/100\n",
      "4/4 [==============================] - 2s 437ms/step - loss: 0.5368 - val_loss: 0.5141\n",
      "Epoch 89/100\n",
      "4/4 [==============================] - 2s 482ms/step - loss: 0.5365 - val_loss: 0.5147\n",
      "Epoch 90/100\n",
      "4/4 [==============================] - 2s 486ms/step - loss: 0.5363 - val_loss: 0.5137\n",
      "Epoch 91/100\n",
      "4/4 [==============================] - 2s 460ms/step - loss: 0.5360 - val_loss: 0.5139\n",
      "Epoch 92/100\n",
      "4/4 [==============================] - 2s 436ms/step - loss: 0.5358 - val_loss: 0.5139\n",
      "Epoch 93/100\n",
      "4/4 [==============================] - 2s 444ms/step - loss: 0.5355 - val_loss: 0.5142\n",
      "Epoch 94/100\n",
      "4/4 [==============================] - 2s 444ms/step - loss: 0.5355 - val_loss: 0.5139\n",
      "Epoch 95/100\n",
      "4/4 [==============================] - 2s 438ms/step - loss: 0.5349 - val_loss: 0.5134\n",
      "Epoch 96/100\n",
      "4/4 [==============================] - 2s 441ms/step - loss: 0.5347 - val_loss: 0.5134\n",
      "Epoch 97/100\n",
      "4/4 [==============================] - 2s 450ms/step - loss: 0.5344 - val_loss: 0.5134\n",
      "Epoch 98/100\n",
      "4/4 [==============================] - 2s 435ms/step - loss: 0.5340 - val_loss: 0.5138\n",
      "Epoch 99/100\n",
      "4/4 [==============================] - 2s 438ms/step - loss: 0.5337 - val_loss: 0.5135\n",
      "Epoch 100/100\n",
      "4/4 [==============================] - 2s 434ms/step - loss: 0.5334 - val_loss: 0.5141\n",
      "Model: \"sequential_626\"\n",
      "_________________________________________________________________\n",
      "Layer (type)                 Output Shape              Param #   \n",
      "=================================================================\n",
      "sequential_624 (Sequential)  (None, 50)                951038    \n",
      "_________________________________________________________________\n",
      "sequential_625 (Sequential)  (None, 64, 64, 3)         1246416   \n",
      "=================================================================\n",
      "Total params: 2,197,454\n",
      "Trainable params: 2,197,454\n",
      "Non-trainable params: 0\n",
      "_________________________________________________________________\n"
     ]
    }
   ],
   "source": [
    "cnn_encoder = keras.models.Sequential([\n",
    "    keras.layers.Conv2D(128, kernel_size=2, strides=1, padding=\"same\", activation=\"tanh\", input_shape=[64,64,3]),\n",
    "    keras.layers.Conv2D(64, kernel_size=3, strides=2, padding=\"same\", activation=\"tanh\"),\n",
    "    keras.layers.Conv2D(32, kernel_size=5, strides=2, padding=\"same\", activation=\"tanh\"),\n",
    "    keras.layers.Flatten(),\n",
    "    keras.layers.Dense(100),\n",
    "    keras.layers.Dense(50)\n",
    "])\n",
    "\n",
    "cnn_decoder = keras.models.Sequential([\n",
    "    #keras.layers.Conv2DTranspose(32, kernel_size=3, strides=1, padding=\"same\", activation=\"tanh\", input_shape=[16,16,128]),\n",
    "    #keras.layers.Conv2DTranspose(16, kernel_size=3, strides=2, padding=\"same\", activation=\"tanh\"),\n",
    "    #keras.layers.Conv2DTranspose(3, kernel_size=5, strides=2, padding=\"same\", activation=\"tanh\"),\n",
    "    #keras.layers.Flatten(),\n",
    "    keras.layers.Dense(100, activation=\"tanh\", input_shape=[50]),\n",
    "    keras.layers.Dense(64*64*3, activation=\"tanh\"),\n",
    "    keras.layers.Reshape([64,64,3]),\n",
    "    keras.layers.Conv2DTranspose(3, kernel_size=5, strides=1, padding=\"same\", activation=\"sigmoid\")\n",
    "])\n",
    "\n",
    "cnn_autoencoder = keras.models.Sequential([cnn_encoder, cnn_decoder])  \n",
    "\n",
    "#for layer in cnn_encoder.layers:\n",
    "    #print(layer.get_output_at(0).get_shape().as_list())\n",
    "    \n",
    "#for layer in cnn_decoder.layers:\n",
    "    #print(layer.get_output_at(0).get_shape().as_list())\n",
    "\n",
    "cnn_autoencoder.compile(loss=\"binary_crossentropy\", optimizer=keras.optimizers.SGD(lr=1.5))\n",
    "history = cnn_autoencoder.fit(processed, processed, epochs=100, validation_data=(test, test))\n",
    "cnn_autoencoder.summary()"
   ]
  },
  {
   "cell_type": "code",
   "execution_count": 39,
   "metadata": {},
   "outputs": [
    {
     "ename": "NameError",
     "evalue": "name 'cnn_autoencoder' is not defined",
     "output_type": "error",
     "traceback": [
      "\u001b[1;31m---------------------------------------------------------------------------\u001b[0m",
      "\u001b[1;31mNameError\u001b[0m                                 Traceback (most recent call last)",
      "\u001b[1;32m<ipython-input-39-1766638aa915>\u001b[0m in \u001b[0;36m<module>\u001b[1;34m\u001b[0m\n\u001b[1;32m----> 1\u001b[1;33m \u001b[0mimage\u001b[0m \u001b[1;33m=\u001b[0m \u001b[0mcnn_autoencoder\u001b[0m\u001b[1;33m.\u001b[0m\u001b[0mpredict\u001b[0m\u001b[1;33m(\u001b[0m\u001b[0mprocessed\u001b[0m\u001b[1;33m[\u001b[0m\u001b[1;36m0\u001b[0m\u001b[1;33m]\u001b[0m\u001b[1;33m.\u001b[0m\u001b[0mreshape\u001b[0m\u001b[1;33m(\u001b[0m\u001b[1;33m-\u001b[0m\u001b[1;36m1\u001b[0m\u001b[1;33m,\u001b[0m\u001b[1;36m64\u001b[0m\u001b[1;33m,\u001b[0m\u001b[1;36m64\u001b[0m\u001b[1;33m,\u001b[0m\u001b[1;36m3\u001b[0m\u001b[1;33m)\u001b[0m\u001b[1;33m)\u001b[0m\u001b[1;33m\u001b[0m\u001b[1;33m\u001b[0m\u001b[0m\n\u001b[0m\u001b[0;32m      2\u001b[0m \u001b[1;31m#Original image\u001b[0m\u001b[1;33m\u001b[0m\u001b[1;33m\u001b[0m\u001b[1;33m\u001b[0m\u001b[0m\n\u001b[0;32m      3\u001b[0m \u001b[0mprint\u001b[0m\u001b[1;33m(\u001b[0m\u001b[1;34m\"Original image:\"\u001b[0m\u001b[1;33m)\u001b[0m\u001b[1;33m\u001b[0m\u001b[1;33m\u001b[0m\u001b[0m\n\u001b[0;32m      4\u001b[0m \u001b[0mplt\u001b[0m\u001b[1;33m.\u001b[0m\u001b[0mimshow\u001b[0m\u001b[1;33m(\u001b[0m\u001b[0mprocessed\u001b[0m\u001b[1;33m[\u001b[0m\u001b[1;36m0\u001b[0m\u001b[1;33m]\u001b[0m\u001b[1;33m.\u001b[0m\u001b[0mreshape\u001b[0m\u001b[1;33m(\u001b[0m\u001b[1;36m64\u001b[0m\u001b[1;33m,\u001b[0m\u001b[1;36m64\u001b[0m\u001b[1;33m,\u001b[0m\u001b[1;36m3\u001b[0m\u001b[1;33m)\u001b[0m\u001b[1;33m)\u001b[0m\u001b[1;33m\u001b[0m\u001b[1;33m\u001b[0m\u001b[0m\n\u001b[0;32m      5\u001b[0m \u001b[0mplt\u001b[0m\u001b[1;33m.\u001b[0m\u001b[0mshow\u001b[0m\u001b[1;33m(\u001b[0m\u001b[1;33m)\u001b[0m\u001b[1;33m\u001b[0m\u001b[1;33m\u001b[0m\u001b[0m\n",
      "\u001b[1;31mNameError\u001b[0m: name 'cnn_autoencoder' is not defined"
     ]
    }
   ],
   "source": [
    "image = cnn_autoencoder.predict(processed[0].reshape(-1,64,64,3))\n",
    "#Original image\n",
    "print(\"Original image:\")\n",
    "plt.imshow(processed[0].reshape(64,64,3))\n",
    "plt.show()\n",
    "#AI autoencoder vision\n",
    "print(\"AI vision:\")\n",
    "plt.imshow(image.reshape(64,64,3))\n",
    "plt.show()"
   ]
  },
  {
   "cell_type": "code",
   "execution_count": 8,
   "metadata": {},
   "outputs": [
    {
     "name": "stdout",
     "output_type": "stream",
     "text": [
      "(5, 64, 64, 3)\n",
      "(64, 64, 3)\n"
     ]
    },
    {
     "data": {
      "text/plain": [
       "<matplotlib.image.AxesImage at 0x1fce7dfc4c0>"
      ]
     },
     "execution_count": 8,
     "metadata": {},
     "output_type": "execute_result"
    },
    {
     "data": {
      "image/png": "[encoded data removed]",
      "text/plain": [
       "<Figure size 432x288 with 1 Axes>"
      ]
     },
     "metadata": {
      "needs_background": "light"
     },
     "output_type": "display_data"
    }
   ],
   "source": [
    "path = os.path.join(\"C:\\\\Users\\\\Robin\\\\Desktop\\\\deep_learning\")\n",
    "file = np.load(path+\"\\\\processed_data\\\\v3_absolute_grape_changeling-12_2293-4124NDTRAIN.npy\", allow_pickle=True)[1]\n",
    "file = np.array(file[-1792:][:5]).astype(np.uint8)\n",
    "print(file.shape)\n",
    "processed = file.reshape(5, 64, 64, 3)\n",
    "test = processed[-1]\n",
    "test = test.reshape(-1,64,64,3)\n",
    "processed = processed[:-1]\n",
    "print(processed[0].shape)\n",
    "plt.imshow(processed[-1])"
   ]
  },
  {
   "cell_type": "code",
   "execution_count": 88,
   "metadata": {},
   "outputs": [
    {
     "name": "stdout",
     "output_type": "stream",
     "text": [
      "uint8\n",
      "<PrefetchDataset shapes: (1, 64, 64, 3), types: tf.uint8>\n",
      "0\n",
      "(2, 1)\n",
      "(2, 1)\n",
      "(2, 1)\n",
      "(2, 1)\n"
     ]
    },
    {
     "name": "stderr",
     "output_type": "stream",
     "text": [
      "Clipping input data to the valid range for imshow with RGB data ([0..1] for floats or [0..255] for integers).\n"
     ]
    },
    {
     "data": {
      "image/png": "[encoded data removed]",
      "text/plain": [
       "<Figure size 576x72 with 1 Axes>"
      ]
     },
     "metadata": {
      "needs_background": "light"
     },
     "output_type": "display_data"
    },
    {
     "name": "stdout",
     "output_type": "stream",
     "text": [
      "1\n",
      "(2, 1)\n",
      "(2, 1)\n",
      "(2, 1)\n",
      "(2, 1)\n"
     ]
    },
    {
     "name": "stderr",
     "output_type": "stream",
     "text": [
      "Clipping input data to the valid range for imshow with RGB data ([0..1] for floats or [0..255] for integers).\n"
     ]
    },
    {
     "data": {
      "image/png": "[encoded data removed]",
      "text/plain": [
       "<Figure size 576x72 with 1 Axes>"
      ]
     },
     "metadata": {
      "needs_background": "light"
     },
     "output_type": "display_data"
    },
    {
     "name": "stdout",
     "output_type": "stream",
     "text": [
      "2\n",
      "(2, 1)\n",
      "(2, 1)\n",
      "(2, 1)\n",
      "(2, 1)\n"
     ]
    },
    {
     "name": "stderr",
     "output_type": "stream",
     "text": [
      "Clipping input data to the valid range for imshow with RGB data ([0..1] for floats or [0..255] for integers).\n"
     ]
    },
    {
     "data": {
      "image/png": "[encoded data removed]",
      "text/plain": [
       "<Figure size 576x72 with 1 Axes>"
      ]
     },
     "metadata": {
      "needs_background": "light"
     },
     "output_type": "display_data"
    },
    {
     "name": "stdout",
     "output_type": "stream",
     "text": [
      "3\n",
      "(2, 1)\n",
      "(2, 1)\n",
      "(2, 1)\n",
      "(2, 1)\n"
     ]
    },
    {
     "name": "stderr",
     "output_type": "stream",
     "text": [
      "Clipping input data to the valid range for imshow with RGB data ([0..1] for floats or [0..255] for integers).\n"
     ]
    },
    {
     "data": {
      "image/png": "[encoded data removed]",
      "text/plain": [
       "<Figure size 576x72 with 1 Axes>"
      ]
     },
     "metadata": {
      "needs_background": "light"
     },
     "output_type": "display_data"
    },
    {
     "name": "stdout",
     "output_type": "stream",
     "text": [
      "4\n",
      "(2, 1)\n",
      "(2, 1)\n",
      "(2, 1)\n",
      "(2, 1)\n"
     ]
    },
    {
     "name": "stderr",
     "output_type": "stream",
     "text": [
      "Clipping input data to the valid range for imshow with RGB data ([0..1] for floats or [0..255] for integers).\n"
     ]
    },
    {
     "data": {
      "image/png": "[encoded data removed]",
      "text/plain": [
       "<Figure size 576x72 with 1 Axes>"
      ]
     },
     "metadata": {
      "needs_background": "light"
     },
     "output_type": "display_data"
    },
    {
     "name": "stdout",
     "output_type": "stream",
     "text": [
      "5\n",
      "(2, 1)\n",
      "(2, 1)\n",
      "(2, 1)\n"
     ]
    },
    {
     "name": "stderr",
     "output_type": "stream",
     "text": [
      "Clipping input data to the valid range for imshow with RGB data ([0..1] for floats or [0..255] for integers).\n"
     ]
    },
    {
     "name": "stdout",
     "output_type": "stream",
     "text": [
      "(2, 1)\n"
     ]
    },
    {
     "data": {
      "image/png": "[encoded data removed]",
      "text/plain": [
       "<Figure size 576x72 with 1 Axes>"
      ]
     },
     "metadata": {
      "needs_background": "light"
     },
     "output_type": "display_data"
    },
    {
     "name": "stdout",
     "output_type": "stream",
     "text": [
      "6\n",
      "(2, 1)\n",
      "(2, 1)\n",
      "(2, 1)\n"
     ]
    },
    {
     "name": "stderr",
     "output_type": "stream",
     "text": [
      "Clipping input data to the valid range for imshow with RGB data ([0..1] for floats or [0..255] for integers).\n"
     ]
    },
    {
     "name": "stdout",
     "output_type": "stream",
     "text": [
      "(2, 1)\n"
     ]
    },
    {
     "data": {
      "image/png": "[encoded data removed]",
      "text/plain": [
       "<Figure size 576x72 with 1 Axes>"
      ]
     },
     "metadata": {
      "needs_background": "light"
     },
     "output_type": "display_data"
    },
    {
     "name": "stdout",
     "output_type": "stream",
     "text": [
      "7\n",
      "(2, 1)\n",
      "(2, 1)\n",
      "(2, 1)\n"
     ]
    },
    {
     "name": "stderr",
     "output_type": "stream",
     "text": [
      "Clipping input data to the valid range for imshow with RGB data ([0..1] for floats or [0..255] for integers).\n"
     ]
    },
    {
     "name": "stdout",
     "output_type": "stream",
     "text": [
      "(2, 1)\n"
     ]
    },
    {
     "data": {
      "image/png": "[encoded data removed]",
      "text/plain": [
       "<Figure size 576x72 with 1 Axes>"
      ]
     },
     "metadata": {
      "needs_background": "light"
     },
     "output_type": "display_data"
    },
    {
     "name": "stdout",
     "output_type": "stream",
     "text": [
      "8\n",
      "(2, 1)\n",
      "(2, 1)\n",
      "(2, 1)\n"
     ]
    },
    {
     "name": "stderr",
     "output_type": "stream",
     "text": [
      "Clipping input data to the valid range for imshow with RGB data ([0..1] for floats or [0..255] for integers).\n"
     ]
    },
    {
     "name": "stdout",
     "output_type": "stream",
     "text": [
      "(2, 1)\n"
     ]
    },
    {
     "data": {
      "image/png": "[encoded data removed]",
      "text/plain": [
       "<Figure size 576x72 with 1 Axes>"
      ]
     },
     "metadata": {
      "needs_background": "light"
     },
     "output_type": "display_data"
    },
    {
     "name": "stdout",
     "output_type": "stream",
     "text": [
      "9\n",
      "(2, 1)\n",
      "(2, 1)\n",
      "(2, 1)\n"
     ]
    },
    {
     "name": "stderr",
     "output_type": "stream",
     "text": [
      "Clipping input data to the valid range for imshow with RGB data ([0..1] for floats or [0..255] for integers).\n"
     ]
    },
    {
     "name": "stdout",
     "output_type": "stream",
     "text": [
      "(2, 1)\n"
     ]
    },
    {
     "data": {
      "image/png": "[encoded data removed]",
      "text/plain": [
       "<Figure size 576x72 with 1 Axes>"
      ]
     },
     "metadata": {
      "needs_background": "light"
     },
     "output_type": "display_data"
    }
   ],
   "source": [
    "cnn_codings = 200\n",
    "\n",
    "cnn_gen = keras.models.Sequential([\n",
    "    keras.layers.Dense(100, input_shape=[cnn_codings]),\n",
    "    keras.layers.Reshape([1, 100]),\n",
    "    keras.layers.LSTM(200, return_sequences=True),\n",
    "    keras.layers.Dense(16*16*128),\n",
    "    keras.layers.Dropout(0.4),\n",
    "    keras.layers.Reshape([16,16,128]),\n",
    "    keras.layers.Conv2D(32, kernel_size=2, padding=\"same\", \n",
    "                       activation=\"tanh\"),\n",
    "    keras.layers.Conv2DTranspose(64, kernel_size=3, strides=2, padding=\"same\",\n",
    "                                activation=\"tanh\"),\n",
    "    keras.layers.Conv2DTranspose(3, kernel_size=5, strides=2, padding=\"same\", \n",
    "                                 activation=\"sigmoid\"),\n",
    "])\n",
    "\n",
    "cnn_dis = keras.models.Sequential([\n",
    "    keras.layers.Flatten(),\n",
    "    keras.layers.Dense(100),\n",
    "    keras.layers.Reshape([1, 100]),\n",
    "    keras.layers.LSTM(50, return_sequences=True),\n",
    "    keras.layers.TimeDistributed(keras.layers.Dense(1, activation=\"sigmoid\"))\n",
    "])\n",
    "\n",
    "#for layer in cnn_gen.layers:\n",
    "    #print(layer.get_output_at(0).get_shape().as_list())\n",
    "#for layer in cnn_dis.layers:\n",
    "    #print(layer.get_output_at(0).get_shape().as_list())\n",
    "\n",
    "cnn_gan = keras.models.Sequential([cnn_gen, cnn_dis])\n",
    "cnn_dis.compile(loss=\"binary_crossentropy\", optimizer=\"rmsprop\")\n",
    "cnn_dis.trainable = False\n",
    "cnn_gan.compile(loss=\"binary_crossentropy\", optimizer=\"rmsprop\")\n",
    "batch_size = 1\n",
    "processed = np.array(processed).reshape(-1,64,64,3)\n",
    "dataset = tf.data.Dataset.from_tensor_slices(processed)\n",
    "dataset = dataset.batch(batch_size, drop_remainder=True).prefetch(1)\n",
    "print(processed.dtype)\n",
    "print(dataset)\n",
    "\n",
    "def plot_multiple_images(images, n_cols=None):\n",
    "    n_cols = n_cols or len(images)\n",
    "    n_rows = (len(images) - 1) // n_cols + 1\n",
    "    if images.shape[-1] == 1:\n",
    "        images = np.squeeze(images, axis=-1)\n",
    "    plt.figure(figsize=(n_cols, n_rows))\n",
    "    for index, image in enumerate(images):\n",
    "        plt.subplot(n_rows, n_cols, index + 1)\n",
    "        plt.imshow(image, cmap=\"binary\")\n",
    "        plt.axis(\"off\")\n",
    "\n",
    "def train_gan(gan, dataset, batch_size, codings_size, n_epochs=10):\n",
    "    cnn_gen, cnn_dis = cnn_gan.layers\n",
    "    for epoch in range(n_epochs):\n",
    "        print(epoch)\n",
    "        for X_batch in dataset:\n",
    "            \n",
    "            #training the discriminator\n",
    "            X_batch = tf.cast(X_batch, tf.float32)\n",
    "            noise = tf.random.normal(shape=[batch_size,codings_size])\n",
    "            generated_images = cnn_gen(noise)*255\n",
    "            \n",
    "            #print(generated_images[0][0][0])\n",
    "            X_fake_and_real = tf.concat([generated_images, X_batch], axis=0)\n",
    "            #print(X_fake_and_real.shape)\n",
    "            y1 = tf.constant([[0.]] * batch_size + [[1.]] * batch_size)\n",
    "            print(y1.shape)\n",
    "            cnn_dis.trainable = True\n",
    "            cnn_dis.train_on_batch(X_fake_and_real, y1)\n",
    "            \n",
    "            #training the generator\n",
    "            noise = tf.random.normal(shape=[batch_size, codings_size])\n",
    "            y2 = tf.constant([[1.]] * batch_size)\n",
    "            cnn_dis.trainable = False\n",
    "            cnn_gan.train_on_batch(noise, y2)\n",
    "        plot_multiple_images(generated_images, 8)                    \n",
    "        plt.show()\n",
    "        \n",
    "train_gan(cnn_gan, dataset, batch_size, cnn_codings)"
   ]
  },
  {
   "cell_type": "code",
   "execution_count": 89,
   "metadata": {},
   "outputs": [
    {
     "name": "stdout",
     "output_type": "stream",
     "text": [
      "[[[[0.48315895 0.50302774 0.4944856 ]\n",
      "   [0.4732601  0.47382796 0.47885358]\n",
      "   [0.46924275 0.49478894 0.47122768]\n",
      "   ...\n",
      "   [0.46124244 0.46533996 0.4812544 ]\n",
      "   [0.46510524 0.50224286 0.46478435]\n",
      "   [0.4664924  0.46194145 0.5023725 ]]\n",
      "\n",
      "  [[0.46334407 0.502248   0.48869264]\n",
      "   [0.49646    0.49332204 0.46519187]\n",
      "   [0.40423542 0.5287874  0.4814459 ]\n",
      "   ...\n",
      "   [0.49841067 0.4933699  0.4337105 ]\n",
      "   [0.38031015 0.5523005  0.49173358]\n",
      "   [0.47662297 0.48074028 0.38639033]]\n",
      "\n",
      "  [[0.4741347  0.52471566 0.46242064]\n",
      "   [0.44714946 0.44157073 0.48032713]\n",
      "   [0.47964534 0.49819508 0.47557658]\n",
      "   ...\n",
      "   [0.40297025 0.42078996 0.48334965]\n",
      "   [0.48237592 0.5085319  0.47894478]\n",
      "   [0.42060018 0.45246914 0.45993018]]\n",
      "\n",
      "  ...\n",
      "\n",
      "  [[0.4525848  0.4852059  0.48168126]\n",
      "   [0.47090602 0.47533584 0.46056262]\n",
      "   [0.3937149  0.5353203  0.4840995 ]\n",
      "   ...\n",
      "   [0.47376552 0.46628115 0.44316608]\n",
      "   [0.37549382 0.53120035 0.49724433]\n",
      "   [0.48340097 0.48135608 0.41262078]]\n",
      "\n",
      "  [[0.4678017  0.5209854  0.46053278]\n",
      "   [0.43209112 0.44588172 0.47972053]\n",
      "   [0.4850197  0.50859195 0.47260764]\n",
      "   ...\n",
      "   [0.4349932  0.44040042 0.45846835]\n",
      "   [0.4694472  0.5066017  0.47091323]\n",
      "   [0.44539484 0.45603457 0.47884324]]\n",
      "\n",
      "  [[0.4419459  0.49899733 0.50146073]\n",
      "   [0.47442463 0.47706303 0.42558402]\n",
      "   [0.44533524 0.4892933  0.52122706]\n",
      "   ...\n",
      "   [0.47757766 0.46025878 0.43828982]\n",
      "   [0.44478524 0.48650625 0.5087592 ]\n",
      "   [0.49725923 0.5127639  0.44665202]]]]\n",
      "Original image:\n"
     ]
    },
    {
     "data": {
      "image/png": "[encoded data removed]",
      "text/plain": [
       "<Figure size 432x288 with 1 Axes>"
      ]
     },
     "metadata": {
      "needs_background": "light"
     },
     "output_type": "display_data"
    },
    {
     "name": "stdout",
     "output_type": "stream",
     "text": [
      "AI vision:\n"
     ]
    },
    {
     "data": {
      "image/png": "[encoded data removed]",
      "text/plain": [
       "<Figure size 432x288 with 1 Axes>"
      ]
     },
     "metadata": {
      "needs_background": "light"
     },
     "output_type": "display_data"
    }
   ],
   "source": [
    "#GAN tester\n",
    "noise = tf.random.normal(shape=[batch_size, cnn_codings])\n",
    "gan_img = cnn_gen.predict(noise)\n",
    "print(gan_img)\n",
    "\n",
    "print(\"Original image:\")\n",
    "plt.imshow(processed[0].reshape(64,64,3))\n",
    "plt.show()\n",
    "#AI autoencoder vision\n",
    "print(\"AI vision:\")\n",
    "plt.imshow(gan_img.reshape(64,64,3))\n",
    "plt.show()"
   ]
  },
  {
   "cell_type": "code",
   "execution_count": null,
   "metadata": {},
   "outputs": [],
   "source": []
  },
  {
   "cell_type": "code",
   "execution_count": null,
   "metadata": {},
   "outputs": [],
   "source": []
  }
 ],
 "metadata": {
  "kernelspec": {
   "display_name": "Python 3",
   "language": "python",
   "name": "python3"
  },
  "language_info": {
   "codemirror_mode": {
    "name": "ipython",
    "version": 3
   },
   "file_extension": ".py",
   "mimetype": "text/x-python",
   "name": "python",
   "nbconvert_exporter": "python",
   "pygments_lexer": "ipython3",
   "version": "3.8.3rc1"
  }
 },
 "nbformat": 4,
 "nbformat_minor": 4
}
